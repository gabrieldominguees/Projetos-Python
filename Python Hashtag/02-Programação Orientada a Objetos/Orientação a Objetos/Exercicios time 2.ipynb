{
 "cells": [
  {
   "cell_type": "markdown",
   "metadata": {},
   "source": [
    "## Tempo até o próximo ano\n",
    "\n",
    "Crie um script Python que calcula quantos dias, horas, minutos e segundos faltam até o próximo Ano Novo.\n",
    "\n"
   ]
  },
  {
   "cell_type": "markdown",
   "metadata": {
    "tags": []
   },
   "source": [
    "Lembrar da tupla de struct_time: https://docs.python.org/3/library/time.html#time.struct_time"
   ]
  },
  {
   "cell_type": "code",
   "execution_count": 15,
   "metadata": {},
   "outputs": [
    {
     "name": "stdout",
     "output_type": "stream",
     "text": [
      "12124981\n"
     ]
    }
   ],
   "source": [
    "import time\n",
    "\n",
    "# Obter o tempo atual\n",
    "tempo_atual = time.localtime()\n",
    "\n",
    "# Definir o tempo do próximo Ano Novo\n",
    "tempo_ano_novo = time.struct_time((tempo_atual.tm_year + 1, 1, 1, 0, 0, 0, 0, 0, -1))\n",
    "\n",
    "# Calcular a diferença em segundos entre o próximo Ano Novo e o tempo atual\n",
    "segundos_restantes = int(time.mktime(tempo_ano_novo) - time.mktime(tempo_atual))\n",
    "\n",
    "print(segundos_restantes)\n"
   ]
  },
  {
   "cell_type": "code",
   "execution_count": 16,
   "metadata": {
    "tags": []
   },
   "outputs": [
    {
     "name": "stdout",
     "output_type": "stream",
     "text": [
      "Segundos em um minuto: 60 s\n",
      "Segundos em uma hora: 3600 s\n",
      "Segundos em um dia: 86400 s\n"
     ]
    }
   ],
   "source": [
    "# lembrando\n",
    "\n",
    "segundos_por_minuto = 60\n",
    "segundos_por_hora = 60 * 60\n",
    "segundos_por_dia = 24 * 60 * 60\n",
    "\n",
    "print(f\"Segundos em um minuto: {segundos_por_minuto} s\")\n",
    "print(f\"Segundos em uma hora: {segundos_por_hora} s\")\n",
    "print(f\"Segundos em um dia: {segundos_por_dia} s\")"
   ]
  },
  {
   "cell_type": "markdown",
   "metadata": {
    "tags": []
   },
   "source": [
    "Lembrando de divisão:\n",
    "\n",
    "![divisao](https://escolaeducacao.com.br/wp-content/uploads/2020/01/algoritmo-divisao.png)"
   ]
  },
  {
   "cell_type": "code",
   "execution_count": 17,
   "metadata": {},
   "outputs": [
    {
     "name": "stdout",
     "output_type": "stream",
     "text": [
      "(2, 10)\n"
     ]
    }
   ],
   "source": [
    "print(divmod(130, segundos_por_minuto))"
   ]
  },
  {
   "cell_type": "code",
   "execution_count": 18,
   "metadata": {},
   "outputs": [
    {
     "name": "stdout",
     "output_type": "stream",
     "text": [
      "2\n",
      "10\n"
     ]
    }
   ],
   "source": [
    "resultado, resto = divmod(130, segundos_por_minuto)\n",
    "print(resultado)\n",
    "print(resto)"
   ]
  },
  {
   "cell_type": "code",
   "execution_count": 19,
   "metadata": {},
   "outputs": [
    {
     "name": "stdout",
     "output_type": "stream",
     "text": [
      "140\n",
      "28981\n"
     ]
    }
   ],
   "source": [
    "dias, resto_segundos = divmod(segundos_restantes, segundos_por_dia)\n",
    "print(dias)\n",
    "print(resto_segundos)"
   ]
  },
  {
   "cell_type": "code",
   "execution_count": 20,
   "metadata": {},
   "outputs": [
    {
     "name": "stdout",
     "output_type": "stream",
     "text": [
      "483\n",
      "0\n",
      "1\n"
     ]
    }
   ],
   "source": [
    "horas, resto_segundos = divmod(resto_segundos, segundos_por_minuto)\n",
    "minutos, segundos = divmod(resto_segundos, segundos_por_minuto)\n",
    "\n",
    "print(horas)\n",
    "print(minutos)\n",
    "print(segundos)"
   ]
  },
  {
   "cell_type": "code",
   "execution_count": 21,
   "metadata": {},
   "outputs": [
    {
     "name": "stdout",
     "output_type": "stream",
     "text": [
      "Faltam 140 dias, 483 horas, 0 minutos e 1 segundos para o ano novo!!!\n"
     ]
    }
   ],
   "source": [
    "print(f\"Faltam {dias} dias, {horas} horas, {minutos} minutos e {segundos} segundos para o ano novo!!!\")"
   ]
  }
 ],
 "metadata": {
  "kernelspec": {
   "display_name": "Python 3 (ipykernel)",
   "language": "python",
   "name": "python3"
  },
  "language_info": {
   "codemirror_mode": {
    "name": "ipython",
    "version": 3
   },
   "file_extension": ".py",
   "mimetype": "text/x-python",
   "name": "python",
   "nbconvert_exporter": "python",
   "pygments_lexer": "ipython3",
   "version": "3.12.3"
  }
 },
 "nbformat": 4,
 "nbformat_minor": 4
}
