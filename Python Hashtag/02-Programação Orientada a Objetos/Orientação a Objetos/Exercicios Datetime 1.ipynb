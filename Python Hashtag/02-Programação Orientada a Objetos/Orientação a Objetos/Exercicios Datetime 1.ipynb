{
 "cells": [
  {
   "cell_type": "markdown",
   "metadata": {},
   "source": [
    "## Oferecendo desconto para cliente com base na última compra\n",
    "\n",
    "Suponha que você está trabalhando para uma empresa que deseja rastrear a atividade do cliente. Uma métrica que eles estão interessados é o tempo que passou desde a última transação do cliente. Se for muito tempo, eles podem oferecer um desconto para o cliente. Crie um script Python que mostra quanto tempo se passou desde a última compra do cliente. Se faz mais de 30 dias, mostre uma mensagem oferecendo um desconto para o cliente."
   ]
  },
  {
   "cell_type": "code",
   "execution_count": 17,
   "metadata": {},
   "outputs": [
    {
     "name": "stdout",
     "output_type": "stream",
     "text": [
      "483\n",
      "Você ganhou um desconto\n"
     ]
    }
   ],
   "source": [
    "from datetime import datetime\n",
    "\n",
    "ultima_compra = datetime(2023, 5, 10)\n",
    "agora = datetime.now()\n",
    "\n",
    "diferenca = agora - ultima_compra\n",
    "print(diferenca.days)\n",
    "\n",
    "if diferenca.days > 30:\n",
    "    print(\"Você ganhou um desconto\")\n",
    "else:\n",
    "    print(\"Não tem desconto\")"
   ]
  },
  {
   "cell_type": "markdown",
   "metadata": {},
   "source": [
    "## Data e hora em diferentes fusos horários\n",
    "\n",
    "Uma empresa tem escritórios em São Paulo, Nova York e Tóquio. Crie um script Python que mostra a data e hora atuais nesses três fusos horários. Exiba, também, se estes escritórios estão abertos ou fechados (9h às 17h).\n"
   ]
  },
  {
   "cell_type": "code",
   "execution_count": 18,
   "metadata": {},
   "outputs": [
    {
     "name": "stdout",
     "output_type": "stream",
     "text": [
      "2024-09-04 13:57:55.125630\n",
      "Data/Hora em São Paulo: 2024-09-04 13:57:55.125630-03:00\n",
      "Data/Hora em Nova York: 2024-09-04 12:57:55.125630-04:00\n",
      "Data/Hora em Tóquio: 2024-09-05 01:57:55.125630+09:00\n"
     ]
    }
   ],
   "source": [
    "from datetime import datetime\n",
    "from zoneinfo import ZoneInfo\n",
    "\n",
    "data_hora_atual = datetime.now()\n",
    "\n",
    "print(data_hora_atual)\n",
    "\n",
    "fuso_horario_sao_paulo = ZoneInfo('America/Sao_Paulo')\n",
    "fuso_horario_ny = ZoneInfo('America/New_York')\n",
    "fuso_horario_toquio = ZoneInfo('Asia/Tokyo')\n",
    "\n",
    "data_hora_sao_paulo = data_hora_atual.astimezone(fuso_horario_sao_paulo)\n",
    "data_hora_ny = data_hora_atual.astimezone(fuso_horario_ny)\n",
    "data_hora_toquio = data_hora_atual.astimezone(fuso_horario_toquio)\n",
    "\n",
    "print(f'Data/Hora em São Paulo: {data_hora_sao_paulo}')\n",
    "print(f'Data/Hora em Nova York: {data_hora_ny}')\n",
    "print(f'Data/Hora em Tóquio: {data_hora_toquio}')"
   ]
  },
  {
   "cell_type": "code",
   "execution_count": 19,
   "metadata": {},
   "outputs": [
    {
     "name": "stdout",
     "output_type": "stream",
     "text": [
      "Escritório de São Paulo está Aberto.\n",
      "Escritório de Nova York está Aberto.\n",
      "Escritório de Tóquio está Fechado.\n"
     ]
    }
   ],
   "source": [
    "def verifica_horario(data_hora):\n",
    "    if 9 <= data_hora.hour < 17:\n",
    "        return \"Aberto\"\n",
    "    else:\n",
    "        return \"Fechado\"\n",
    "\n",
    "print(f'Escritório de São Paulo está {verifica_horario(data_hora_sao_paulo)}.')\n",
    "print(f'Escritório de Nova York está {verifica_horario(data_hora_ny)}.')\n",
    "print(f'Escritório de Tóquio está {verifica_horario(data_hora_toquio)}.')"
   ]
  }
 ],
 "metadata": {
  "kernelspec": {
   "display_name": "Python 3 (ipykernel)",
   "language": "python",
   "name": "python3"
  },
  "language_info": {
   "codemirror_mode": {
    "name": "ipython",
    "version": 3
   },
   "file_extension": ".py",
   "mimetype": "text/x-python",
   "name": "python",
   "nbconvert_exporter": "python",
   "pygments_lexer": "ipython3",
   "version": "3.12.3"
  }
 },
 "nbformat": 4,
 "nbformat_minor": 4
}
