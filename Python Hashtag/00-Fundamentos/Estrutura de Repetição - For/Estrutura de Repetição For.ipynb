{
 "cells": [
  {
   "cell_type": "markdown",
   "metadata": {},
   "source": [
    "# Estrutura de Repetição: for\n",
    "\n",
    "### Funcionamento:"
   ]
  },
  {
   "cell_type": "raw",
   "metadata": {},
   "source": [
    "for i in range(n):\n",
    "    repetir código n vezes"
   ]
  },
  {
   "cell_type": "code",
   "execution_count": 7,
   "metadata": {},
   "outputs": [
    {
     "name": "stdout",
     "output_type": "stream",
     "text": [
      "gabriel\n",
      "gabriel\n",
      "gabriel\n",
      "gabriel\n",
      "gabriel\n"
     ]
    }
   ],
   "source": [
    "for i in range(5):\n",
    "    print('gabriel')"
   ]
  },
  {
   "cell_type": "markdown",
   "metadata": {},
   "source": [
    "- Imagine que você está construindo uma automação para enviar todo dia por e-mail um resumo da produção de uma fábrica. Construa um código que exiba a quantidade produzida de cada os produto nesse \"e-mail\""
   ]
  },
  {
   "cell_type": "code",
   "execution_count": 6,
   "metadata": {},
   "outputs": [
    {
     "name": "stdout",
     "output_type": "stream",
     "text": [
      "Foi produzido 15000 unidades de coca.\n",
      "Foi produzido 12000 unidades de pepsi.\n",
      "Foi produzido 13000 unidades de guarana.\n",
      "Foi produzido 5000 unidades de sprite.\n",
      "Foi produzido 250 unidades de fanta.\n"
     ]
    }
   ],
   "source": [
    "produtos = ['coca', 'pepsi', 'guarana', 'sprite', 'fanta']\n",
    "producao = [15000, 12000, 13000, 5000, 250]\n",
    "\n",
    "for i in range(len(produtos)):\n",
    "    print('Foi produzido {} unidades de {}.'.format(producao[i], produtos[i] ))"
   ]
  }
 ],
 "metadata": {
  "kernelspec": {
   "display_name": "Python 3",
   "language": "python",
   "name": "python3"
  },
  "language_info": {
   "codemirror_mode": {
    "name": "ipython",
    "version": 3
   },
   "file_extension": ".py",
   "mimetype": "text/x-python",
   "name": "python",
   "nbconvert_exporter": "python",
   "pygments_lexer": "ipython3",
   "version": "3.12.3"
  }
 },
 "nbformat": 4,
 "nbformat_minor": 4
}
