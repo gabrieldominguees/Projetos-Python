{
 "cells": [
  {
   "cell_type": "markdown",
   "id": "2b04bbea",
   "metadata": {},
   "source": [
    "# Strings\n",
    "\n",
    "<span style=\"color: red;\"><b>Todos os exercícios são feitos partindo-se do pressuposto de que todas as entradas são dadas de forma correta. Casos limite não mencionados no enunciado não são abordados porque não fazem parte do exercício.</b></span>"
   ]
  },
  {
   "cell_type": "markdown",
   "id": "5b1f33b9",
   "metadata": {},
   "source": [
    "#### 1. Tamanho de strings. Faça um programa que leia 2 strings e informe o conteúdo delas seguido do seu comprimento. Informe também se as duas strings possuem o mesmo comprimento e são iguais ou diferentes no conteúdo.\n",
    "<pre>\n",
    "Compara duas strings\n",
    "String 1: Brasil Hexa 2006\n",
    "String 2: Brasil! Hexa 2006!\n",
    "Tamanho de \"Brasil Hexa 2006\": 16 caracteres\n",
    "Tamanho de \"Brasil! Hexa 2006!\": 18 caracteres\n",
    "As duas strings são de tamanhos diferentes.\n",
    "As duas strings possuem conteúdo diferente.\n",
    "</pre>"
   ]
  },
  {
   "cell_type": "code",
   "execution_count": 2,
   "id": "c492b657",
   "metadata": {},
   "outputs": [
    {
     "name": "stdout",
     "output_type": "stream",
     "text": [
      "Brasil Hexa 2006\n",
      "O tamanho da string 1 é de: 16 caracteres\n",
      "Brasil! Hexa 2006!\n",
      "O tamanho da string 2 é de: 18 caracteres\n",
      "As duas strings são de tamanhos diferentes.\n",
      "As duas strings possuem conteúdo diferente.\n"
     ]
    }
   ],
   "source": [
    "str1 = 'Brasil Hexa 2006'\n",
    "str2 = 'Brasil! Hexa 2006!'\n",
    "\n",
    "print(str1)\n",
    "print('O tamanho da string 1 é de: ' + str(len(str1)) + ' caracteres')\n",
    "print(str2)\n",
    "print('O tamanho da string 2 é de: ' + str(len(str2)) + ' caracteres')\n",
    "\n",
    "if len(str1) == len(str2):\n",
    "    print('As duas strings são de tamanhos iguais.')\n",
    "else:\n",
    "    print('As duas strings são de tamanhos diferentes.')\n",
    "\n",
    "if str1 == str2:\n",
    "    print('As duas strings possuem conteúdo igual.')\n",
    "else:\n",
    "    print('As duas strings possuem conteúdo diferente.')\n",
    "\n"
   ]
  },
  {
   "cell_type": "markdown",
   "id": "c3068a53",
   "metadata": {},
   "source": [
    "#### 2. Valida e corrige número de telefone. Faça um programa que leia um número de telefone, e corrija o número no caso deste conter somente 7 dígitos, acrescentando o '3' na frente. O usuário pode informar o número com ou sem o traço separador.\n",
    "<pre>\n",
    "Valida e corrige número de telefone\n",
    "Telefone: 461-0133\n",
    "Telefone possui 7 dígitos. Vou acrescentar o digito três na frente.\n",
    "Telefone corrigido sem formatação: 34610133\n",
    "Telefone corrigido com formatação: 3461-0133\n",
    "</pre>"
   ]
  },
  {
   "cell_type": "code",
   "execution_count": 19,
   "id": "0308566d",
   "metadata": {},
   "outputs": [
    {
     "name": "stdout",
     "output_type": "stream",
     "text": [
      "asd\n",
      "Telefone asd digitado incorretamente\n"
     ]
    }
   ],
   "source": [
    "telefone = input('Digite o número de telefone')\n",
    "print(telefone)\n",
    "\n",
    "if telefone.isnumeric():\n",
    "    if len(telefone) < 6 or len(telefone) > 8:\n",
    "        print('Telefone {} digitado incorretamente'.format(telefone))\n",
    "    else:\n",
    "        if len(telefone) == 7:\n",
    "            print('Telefone possui {} digitos. Vou acrescentar o digito três na frente.'.format(str(len(telefone))))\n",
    "            print('Telefone corrigido sem formatação: 3{}'.format(telefone))\n",
    "            print('Telefone corrigido com formatação: 3{}-{}'.format(telefone[:3],telefone[3:]))\n",
    "        else:\n",
    "            print('Telefone {} digitado corretamente'.format(telefone))\n",
    "            print('Telefone com formatação: 3{}-{}'.format(telefone[:3],telefone[3:]))\n",
    "else:\n",
    "    print('Telefone {} digitado incorretamente'.format(telefone))\n"
   ]
  }
 ],
 "metadata": {
  "kernelspec": {
   "display_name": "Python 3 (ipykernel)",
   "language": "python",
   "name": "python3"
  },
  "language_info": {
   "codemirror_mode": {
    "name": "ipython",
    "version": 3
   },
   "file_extension": ".py",
   "mimetype": "text/x-python",
   "name": "python",
   "nbconvert_exporter": "python",
   "pygments_lexer": "ipython3",
   "version": "3.12.3"
  }
 },
 "nbformat": 4,
 "nbformat_minor": 5
}
