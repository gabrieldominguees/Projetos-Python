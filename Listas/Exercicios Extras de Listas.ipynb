{
 "cells": [
  {
   "cell_type": "markdown",
   "metadata": {},
   "source": [
    "### Exercício 1\n",
    "### Crie um sistema de cadastro de produtos em uma lista de produtos\n",
    "Seu sistema deve:\n",
    "- Pegar o usuário qual produto vai ser cadastrado por meio de um input\n",
    "- Garantir que se o usuário escrever com letra maiúscula ou minúscula, o produto continua sendo o mesmo produto\n",
    "- Se o usuário inserir um produto que já existe na lista, o programa deve printar a mensagem \"Produto já existente, tente novamente\"\n",
    "- Se o usuário inserir um produto que não existe na lista, o programa deve inserir na lista, printar a mensagem Produto X cadastrado com sucesso e em seguida printar a lista completa"
   ]
  },
  {
   "cell_type": "code",
   "execution_count": 5,
   "metadata": {},
   "outputs": [
    {
     "name": "stdout",
     "output_type": "stream",
     "text": [
      "Produto mouse cadastrado com sucesso\n",
      "['celular', 'camera', 'fone de ouvido', 'monitor', 'mouse']\n"
     ]
    }
   ],
   "source": [
    "produtos = [\"celular\", \"camera\", \"fone de ouvido\", \"monitor\"]\n",
    "\n",
    "produto_novo = input('Digite o nome do produto a ser cadastrado: ').casefold()\n",
    "\n",
    "if produto_novo in produtos:\n",
    "    print('Produto já existente, tente novamente')\n",
    "else:\n",
    "    produtos.append(produto_novo)\n",
    "    print('Produto {} cadastrado com sucesso'.format(produto_novo))\n",
    "    print(produtos)\n",
    "\n"
   ]
  },
  {
   "cell_type": "markdown",
   "metadata": {},
   "source": [
    "### Exercício 2\n",
    "#### Crie um sistema de consulta de preços\n",
    "Seu sistema deve:\n",
    "- Pedir para o usuário o nome de um produto\n",
    "- Caso o produto exista na lista de produtos, o programa deve retornar o preço do produto como resposta\n",
    "       - Ex: O produto celular custa R$1500\n",
    "- Caso o produto não exista na lista de produtos, o programa deve printar uma mensagem para o usuário tentar novamente\n"
   ]
  },
  {
   "cell_type": "code",
   "execution_count": 11,
   "metadata": {},
   "outputs": [
    {
     "name": "stdout",
     "output_type": "stream",
     "text": [
      "O produto fone de ouvido custa R$800.00\n"
     ]
    }
   ],
   "source": [
    "produtos = [\"celular\", \"camera\", \"fone de ouvido\", \"monitor\"]\n",
    "precos = [1500, 1000, 800, 2000]\n",
    "\n",
    "produto = input('Digite o nome do produto: ').casefold()\n",
    "\n",
    "if produto in produtos:\n",
    "    i = produtos.index(produto)\n",
    "    preco_produto = precos[i]\n",
    "    print('O produto {} custa R${:.2f}'.format(produto, preco_produto))\n",
    "else:\n",
    "    print('Produto não encontrado, tente novamente')"
   ]
  },
  {
   "cell_type": "markdown",
   "metadata": {},
   "source": [
    "### Exercício 3\n",
    "#### Crie um sistema de consulta de bônus dos funcionários\n",
    "Seu sistema deve:\n",
    "- Pegar o valor de vendas do funcinoário por meio de um input\n",
    "- Calcular o bônus do funcionário de acordo com a seguinte regra:\n",
    "      - Se o funcionário vendeu mais de 1000 unidades, ele ganha R$2 de bonus para cada unidade vendida\n",
    "      - Se o funcionário vendeu mais de 5000 unidades, ele ganha R$2 de bônus para cada unidade + um valor fixo de R$1000\n",
    "      - Se o funcionário vendeu menos de 1000 unidades, ele não ganha bônus\n",
    "- Printar no final o valor do bônus do funcionário\n"
   ]
  },
  {
   "cell_type": "code",
   "execution_count": 23,
   "metadata": {},
   "outputs": [
    {
     "name": "stdout",
     "output_type": "stream",
     "text": [
      "Baseado nas suas vendas de R$5800.00, o seu bonus será de R$12600.00\n"
     ]
    }
   ],
   "source": [
    "valor_vendas = float(input('Digite o seu valor de vendas:'))\n",
    "bonus = 0\n",
    "\n",
    "if valor_vendas >= 5000:\n",
    "    bonus = (2 * valor_vendas) + 1000\n",
    "    print('Baseado nas suas vendas de R${:.2f}, o seu bonus será de R${:.2f}'.format(valor_vendas, bonus))\n",
    "elif valor_vendas >= 1000:\n",
    "    bonus = 2 * valor_vendas\n",
    "    print('Baseado nas suas vendas de R${:.2f}, o seu bonus será de R${:.2f}'.format(valor_vendas, bonus))\n",
    "elif valor_vendas >=0 and valor_vendas < 1000:\n",
    "    bonus = 0\n",
    "    print('Baseado nas suas vendas de R${:.2f}, o seu bonus será de R${:.2f}'.format(valor_vendas, bonus))\n",
    "else:\n",
    "    print('Valor de vendas inválido')\n"
   ]
  },
  {
   "cell_type": "markdown",
   "metadata": {},
   "source": [
    "### Exercício 4\n",
    "Crie um programa que consiga descobrir qual dos vendedores vendeu mais\n",
    "<br>As vendas dos vendedores são listas com a quantidade vendida por cada vendedor"
   ]
  },
  {
   "cell_type": "code",
   "execution_count": 25,
   "metadata": {},
   "outputs": [
    {
     "name": "stdout",
     "output_type": "stream",
     "text": [
      "1599\n",
      "1714\n",
      "Vendedor 2 vendeu mais\n"
     ]
    }
   ],
   "source": [
    "vendas = [\n",
    "    [10, 20, 100, 80, 90, 100, 20, 30, 44, 55, 33, 34, 100, 90, 80, 39, 87, 45, 50, 50, 50, 50, 40, 30, 3, 93, 39, 49, 88],    \n",
    "    [100, 1, 1, 4, 5, 90, 100, 20, 4, 5, 100, 100, 100, 100, 100, 93, 20, 15, 40, 90, 90, 90, 90, 90, 90, 33, 22, 44, 43, 34],\n",
    "]\n",
    "\n",
    "vendas_vendedor1 = sum(vendas[0])\n",
    "vendas_vendedor2 = sum(vendas[1])\n",
    "\n",
    "print(vendas_vendedor1)\n",
    "print(vendas_vendedor2)\n",
    "\n",
    "if vendas_vendedor1 > vendas_vendedor2:\n",
    "    print('Vendedor 1 vendeu mais')\n",
    "else:\n",
    "    print('Vendedor 2 vendeu mais')"
   ]
  }
 ],
 "metadata": {
  "kernelspec": {
   "display_name": "Python 3",
   "language": "python",
   "name": "python3"
  },
  "language_info": {
   "codemirror_mode": {
    "name": "ipython",
    "version": 3
   },
   "file_extension": ".py",
   "mimetype": "text/x-python",
   "name": "python",
   "nbconvert_exporter": "python",
   "pygments_lexer": "ipython3",
   "version": "3.12.3"
  }
 },
 "nbformat": 4,
 "nbformat_minor": 2
}
