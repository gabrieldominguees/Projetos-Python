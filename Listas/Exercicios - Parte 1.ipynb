{
 "cells": [
  {
   "cell_type": "markdown",
   "metadata": {},
   "source": [
    "# Exercícios\n",
    "\n",
    "## 1. Faturamento do Melhor e do Pior Mês do Ano\n",
    "\n",
    "Qual foi o valor de vendas do melhor mês do Ano?\n",
    "E valor do pior mês do ano?"
   ]
  },
  {
   "cell_type": "code",
   "execution_count": 8,
   "metadata": {},
   "outputs": [
    {
     "name": "stdout",
     "output_type": "stream",
     "text": [
      "O valor do melhor mês foi de 49051 e do pior mês foi de 9650\n"
     ]
    }
   ],
   "source": [
    "meses = ['jan', 'fev', 'mar', 'abr', 'mai', 'jun', 'jul', 'ago', 'set', 'out', 'nov', 'dez']\n",
    "vendas_1sem = [25000, 29000, 22200, 17750, 15870, 19900]\n",
    "vendas_2sem = [19850, 20120, 17540, 15555, 49051, 9650]\n",
    "\n",
    "vendas_ano = vendas_1sem + vendas_2sem\n",
    "\n",
    "maior_valor = max(vendas_ano)\n",
    "\n",
    "menor_valor = min(vendas_ano)\n",
    "\n",
    "print('O valor do melhor mês foi de {} e do pior mês foi de {}'.format(maior_valor, menor_valor))"
   ]
  },
  {
   "cell_type": "markdown",
   "metadata": {},
   "source": [
    "## 2. Continuação\n",
    "\n",
    "Agora relacione as duas listas para printar 'O melhor mês do ano foi {} com {} vendas' e o mesmo para o pior mês do ano.\n",
    "\n",
    "Calcule também o faturamento total do Ano e quanto que o melhor mês representou do faturamento total.\n",
    "\n",
    "Obs: Para o faturamento total, pode usar a função sum(lista) que soma todos os itens de uma lista"
   ]
  },
  {
   "cell_type": "code",
   "execution_count": 32,
   "metadata": {},
   "outputs": [
    {
     "name": "stdout",
     "output_type": "stream",
     "text": [
      "O melhor mês do ano foi nov com 49051 vendas\n",
      "O pior mês do ano foi dez com 9650 vendas\n",
      "O faturamento total do ano foi de R$261,486\n",
      "O melhor mês representou 19% das vendas do ano todo\n"
     ]
    }
   ],
   "source": [
    "i_maior_val = vendas_ano.index(maior_valor)\n",
    "i_menor_val = vendas_ano.index(menor_valor)\n",
    "\n",
    "print('O melhor mês do ano foi {} com {} vendas'.format(meses[i_maior_val], maior_valor))\n",
    "print('O pior mês do ano foi {} com {} vendas'.format(meses[i_menor_val], menor_valor))\n",
    "\n",
    "fat_total = sum(vendas_ano)\n",
    "print('O faturamento total do ano foi de R${:,}'.format(fat_total))\n",
    "\n",
    "rep_total = (maior_valor / fat_total)*100\n",
    "print('O melhor mês representou {:.0f}% das vendas do ano todo'.format(rep_total))"
   ]
  },
  {
   "cell_type": "markdown",
   "metadata": {},
   "source": [
    "## 3. Crie uma lista com o top 3 valores de vendas do ano (sem fazer \"no olho\")\n",
    "\n",
    "Dica: o método remove retira um item da lista."
   ]
  },
  {
   "cell_type": "code",
   "execution_count": 42,
   "metadata": {},
   "outputs": [
    {
     "name": "stdout",
     "output_type": "stream",
     "text": [
      "[49051, 29000, 25000, 22200, 20120, 19900, 19850, 17750, 17540, 15870, 15555, 9650]\n",
      "[[49051, 29000, 25000]]\n",
      "[49051, 29000, 25000]\n"
     ]
    }
   ],
   "source": [
    "vendas_ano.sort(reverse=True)\n",
    "print(vendas_ano)\n",
    "\n",
    "top3 = []\n",
    "top3.append(vendas_ano[:3])\n",
    "print(top3)\n",
    "\n",
    "top3_novo = []\n",
    "maior_valor = max(vendas_ano)\n",
    "top3_novo.append(maior_valor)\n",
    "vendas_ano.remove(maior_valor)\n",
    "\n",
    "maior_valor = max(vendas_ano)\n",
    "top3_novo.append(maior_valor)\n",
    "vendas_ano.remove(maior_valor)\n",
    "\n",
    "maior_valor = max(vendas_ano)\n",
    "top3_novo.append(maior_valor)\n",
    "vendas_ano.remove(maior_valor)\n",
    "\n",
    "print(top3_novo)"
   ]
  }
 ],
 "metadata": {
  "kernelspec": {
   "display_name": "Python 3",
   "language": "python",
   "name": "python3"
  },
  "language_info": {
   "codemirror_mode": {
    "name": "ipython",
    "version": 3
   },
   "file_extension": ".py",
   "mimetype": "text/x-python",
   "name": "python",
   "nbconvert_exporter": "python",
   "pygments_lexer": "ipython3",
   "version": "3.12.3"
  }
 },
 "nbformat": 4,
 "nbformat_minor": 4
}
