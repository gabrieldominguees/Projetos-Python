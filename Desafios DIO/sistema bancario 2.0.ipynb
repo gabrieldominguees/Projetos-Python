{
 "cells": [
  {
   "cell_type": "markdown",
   "id": "7fdce445",
   "metadata": {},
   "source": [
    "**Função Menu**"
   ]
  },
  {
   "cell_type": "code",
   "execution_count": 10,
   "id": "fcd0159f",
   "metadata": {},
   "outputs": [],
   "source": [
    "\n",
    "def menu():\n",
    "    print(\"\"\"\n",
    "    ================ MENU ================\n",
    "    [d] Depositar\n",
    "    [s] Sacar\n",
    "    [e] Extrato\n",
    "    [nu] Novo usuário\n",
    "    [nc] Nova conta\n",
    "    [lc] Listar contas\n",
    "    [q] Sair\n",
    "    ======================================\n",
    "    \"\"\")\n",
    "    return input(\"Escolha uma opção: \")\n"
   ]
  },
  {
   "cell_type": "markdown",
   "id": "938fd61b",
   "metadata": {},
   "source": [
    "**Função Depósito**"
   ]
  },
  {
   "cell_type": "code",
   "execution_count": 11,
   "id": "040cbd54",
   "metadata": {},
   "outputs": [],
   "source": [
    "\n",
    "def depositar(saldo, valor, extrato):\n",
    "    if valor > 0:\n",
    "        saldo += valor\n",
    "        extrato += f\"Depósito:\\tR$ {valor:.2f}\\n\"\n",
    "        print('\\n Depósito realizado com sucesso!')\n",
    "    else:\n",
    "        print('\\n Operação falhou! O valor informado é inválido.')\n",
    "    \n",
    "    return saldo, extrato\n"
   ]
  },
  {
   "cell_type": "markdown",
   "id": "d8ee8af6",
   "metadata": {},
   "source": [
    "**Função Saque**"
   ]
  },
  {
   "cell_type": "code",
   "execution_count": 12,
   "id": "f52acf92",
   "metadata": {},
   "outputs": [],
   "source": [
    "\n",
    "def sacar(saldo, valor, extrato, limite, numero_saques, limite_saques):\n",
    "    excedeu_saldo = valor > saldo\n",
    "    excedeu_limite = valor > limite\n",
    "    excedeu_saques = numero_saques >= limite_saques\n",
    "\n",
    "    if excedeu_saldo:\n",
    "        print('\\nOperação falhou! Você não tem saldo suficiente.')\n",
    "    elif excedeu_limite:\n",
    "        print('\\nOperação falhou! O valor do saque excede o limite.')\n",
    "    elif excedeu_saques:\n",
    "        print('\\nOperação falhou! Número máximo de saques excedido.')\n",
    "    elif valor > 0:\n",
    "        saldo -= valor\n",
    "        extrato += f\"Saque:\\tR$ {valor:.2f}\\n\"\n",
    "        numero_saques += 1\n",
    "        print('\\n Saque realizado com sucesso!')\n",
    "    else:\n",
    "        print('\\n Operação falhou! O valor informado é inválido.')    \n",
    "    \n",
    "    return saldo, extrato\n"
   ]
  },
  {
   "cell_type": "markdown",
   "id": "740843a9",
   "metadata": {},
   "source": [
    "**Função Extrato**"
   ]
  },
  {
   "cell_type": "code",
   "execution_count": 13,
   "id": "c848b958",
   "metadata": {},
   "outputs": [],
   "source": [
    "\n",
    "def exibir_extrato(saldo, extrato):\n",
    "    print(\"\\n================ EXTRATO ================\")\n",
    "    print(\"Não foram realizadas movimentações.\" if not extrato else extrato)\n",
    "    print(f\"\\nSaldo:\\t\\tR$ {saldo:.2f}\")\n",
    "    print(\"==========================================\")\n"
   ]
  },
  {
   "cell_type": "markdown",
   "id": "653b2e52",
   "metadata": {},
   "source": [
    "**Função Criar Usuários**"
   ]
  },
  {
   "cell_type": "code",
   "execution_count": 14,
   "id": "4bad4b7b",
   "metadata": {},
   "outputs": [],
   "source": [
    "\n",
    "def criar_usuario(usuarios):\n",
    "    cpf = input(\"Informe o CPF (somente número): \")\n",
    "    usuario = filtrar_usuario(cpf, usuarios)\n",
    "\n",
    "    if usuario:\n",
    "        print('\\n Já existe usuário com esse CPF!')\n",
    "        return\n",
    "    \n",
    "    nome = input(\"Informe o nome completo: \")\n",
    "    data_nascimento = input(\"Informe a data de nascimento (dd-mm-aaaa): \")\n",
    "    endereco = input(\"Informe o endereço (logradouro, número - bairro - cidade/UF): \")\n",
    "\n",
    "    usuarios.append({\"cpf\": cpf, \"nome\": nome, \"data_nascimento\": data_nascimento, \"endereco\": endereco})\n",
    "\n",
    "    print('\\n Usuário criado com sucesso!')\n"
   ]
  },
  {
   "cell_type": "markdown",
   "id": "338744a8",
   "metadata": {},
   "source": [
    "**Função Filtrar Usuários**"
   ]
  },
  {
   "cell_type": "code",
   "execution_count": 15,
   "id": "d4daf677",
   "metadata": {},
   "outputs": [],
   "source": [
    "\n",
    "def filtrar_usuario(cpf, usuarios):\n",
    "    usuarios_filtrados = [usuario for usuario in usuarios if usuario['cpf'] == cpf]\n",
    "    return usuarios_filtrados[0] if usuarios_filtrados else None\n"
   ]
  },
  {
   "cell_type": "markdown",
   "id": "b59c8940",
   "metadata": {},
   "source": [
    "**Função Criar Contas**"
   ]
  },
  {
   "cell_type": "code",
   "execution_count": 16,
   "id": "4697e4b5",
   "metadata": {},
   "outputs": [],
   "source": [
    "\n",
    "def criar_conta(agencia, numero_conta, usuarios):\n",
    "    cpf = input(\"Informe o CPF do usuário: \")\n",
    "    usuario = filtrar_usuario(cpf, usuarios)\n",
    "\n",
    "    if usuario:\n",
    "        print('\\n Conta criada com sucesso!')\n",
    "        return {\"agencia\": agencia, \"numero_conta\": numero_conta, \"usuario\": usuario}\n",
    "    \n",
    "    print('\\n Usuário não encontrado! Conta não criada.')\n",
    "    return None\n"
   ]
  },
  {
   "cell_type": "markdown",
   "id": "b99780fd",
   "metadata": {},
   "source": [
    "**Função Listar Contas**"
   ]
  },
  {
   "cell_type": "code",
   "execution_count": 17,
   "id": "31fcfdc9",
   "metadata": {},
   "outputs": [],
   "source": [
    "\n",
    "def listar_contas(contas):\n",
    "    for conta in contas:\n",
    "        linha = f\"Agência: {conta['agencia']} | C/C: {conta['numero_conta']} | Titular: {conta['usuario']['nome']}\"\n",
    "        print(linha)\n"
   ]
  },
  {
   "cell_type": "markdown",
   "id": "f0e333b3",
   "metadata": {},
   "source": [
    "**Função Main (Principal)**"
   ]
  },
  {
   "cell_type": "code",
   "execution_count": null,
   "id": "5ed995a1",
   "metadata": {},
   "outputs": [],
   "source": [
    "\n",
    "def main():\n",
    "    LIMITE_SAQUES = 3\n",
    "    AGENCIA = '0001'\n",
    "\n",
    "    saldo = 0\n",
    "    limite = 500\n",
    "    extrato = ''\n",
    "    numero_saques = 0\n",
    "    usuarios = []\n",
    "    contas = []\n",
    "\n",
    "    while True:\n",
    "        opcao = menu()\n",
    "\n",
    "        if opcao == 'd':\n",
    "            try:\n",
    "                valor = float(input(\"Informe o valor do depósito: \"))\n",
    "                saldo, extrato = depositar(saldo, valor, extrato)\n",
    "            except ValueError:\n",
    "                print(\"Valor inválido! Por favor, insira um número.\")\n",
    "\n",
    "        elif opcao == 's':\n",
    "            try:\n",
    "                valor = float(input(\"Informe o valor do saque: \"))\n",
    "                saldo, extrato = sacar(\n",
    "                    saldo=saldo,\n",
    "                    valor=valor,\n",
    "                    extrato=extrato,\n",
    "                    limite=limite,\n",
    "                    numero_saques=numero_saques,\n",
    "                    limite_saques=LIMITE_SAQUES\n",
    "                )\n",
    "                if saldo is not None:  # Verifica se o saque foi bem-sucedido\n",
    "                    numero_saques += 1\n",
    "            except ValueError:\n",
    "                print(\"Valor inválido! Por favor, insira um número.\")\n",
    "        \n",
    "        elif opcao == 'e':\n",
    "            exibir_extrato(saldo, extrato=extrato)\n",
    "        \n",
    "        elif opcao == 'nu':\n",
    "            criar_usuario(usuarios)\n",
    "\n",
    "        elif opcao == 'nc':\n",
    "            numero_conta = len(contas) + 1\n",
    "            conta = criar_conta(AGENCIA, numero_conta, usuarios)\n",
    "            \n",
    "            if conta:\n",
    "                contas.append(conta)\n",
    "            \n",
    "        elif opcao == 'lc':\n",
    "            listar_contas(contas)\n",
    "        \n",
    "        elif opcao == 'q':\n",
    "            break\n",
    "        \n",
    "        else:\n",
    "            print('Operação inválida, por favor selecione novamente a operação desejada.')\n",
    "\n",
    "main()\n"
   ]
  }
 ],
 "metadata": {
  "kernelspec": {
   "display_name": "Python 3",
   "language": "python",
   "name": "python3"
  },
  "language_info": {
   "codemirror_mode": {
    "name": "ipython",
    "version": 3
   },
   "file_extension": ".py",
   "mimetype": "text/x-python",
   "name": "python",
   "nbconvert_exporter": "python",
   "pygments_lexer": "ipython3",
   "version": "3.12.3"
  }
 },
 "nbformat": 4,
 "nbformat_minor": 5
}
