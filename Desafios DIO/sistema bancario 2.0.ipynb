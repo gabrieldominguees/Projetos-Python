{
 "cells": [
  {
   "cell_type": "markdown",
   "metadata": {},
   "source": [
    "Função Menu"
   ]
  },
  {
   "cell_type": "code",
   "execution_count": null,
   "metadata": {},
   "outputs": [],
   "source": [
    "def menu():\n",
    "    menu = '''\\n\n",
    "     ================ MENU ================\n",
    "    [d]\\tDepositar\n",
    "    [s]\\tSacar\n",
    "    [e]\\tExtrato\n",
    "    [nc]\\tNova conta\n",
    "    [lc]\\tListar contas\n",
    "    [nu]\\tNovo usuário\n",
    "    [q]\\tSair\n",
    "    =>'''\n",
    "    return menu"
   ]
  },
  {
   "cell_type": "markdown",
   "metadata": {},
   "source": [
    "Função Depositar"
   ]
  },
  {
   "cell_type": "code",
   "execution_count": null,
   "metadata": {},
   "outputs": [],
   "source": [
    "def depositar(saldo, valor, extrato):\n",
    "    if valor > 0:\n",
    "        saldo += valor\n",
    "        extrato += f\"Depósito:\\tR$ {valor:.2f}\\n\"\n",
    "        print('\\n Depósito realizado com sucesso!')\n",
    "    else:\n",
    "        print('\\n Operação falhou! O valor informado é inválido.')\n",
    "    \n",
    "    return saldo, extrato"
   ]
  },
  {
   "cell_type": "markdown",
   "metadata": {},
   "source": [
    "Função Sacar"
   ]
  },
  {
   "cell_type": "code",
   "execution_count": null,
   "metadata": {},
   "outputs": [],
   "source": [
    "def sacar(saldo, valor, extrato, limite, numero_saques, limite_saques):\n",
    "    excedeu_saldo = valor > saldo\n",
    "    excedeu_limite = valor > limite\n",
    "    excedeu_saques = numero_saques >= limite_saques\n",
    "\n",
    "    if excedeu_saldo:\n",
    "        print('\\nOperação falhou! Você não tem saldo suficiente.')\n",
    "    elif excedeu_limite:\n",
    "        print('\\nOperação falhou! O valor do saque excede o limite.')\n",
    "    elif excedeu_saques:\n",
    "        print('\\nOperação falhou! Número máximo de saques excedido.')\n",
    "    elif valor > 0:\n",
    "        saldo -= valor\n",
    "        extrato += f\"Saque:\\tR$ {valor:.2f}\\n\"\n",
    "        numero_saques += 1\n",
    "        print('\\n Saque realizado com sucesso!')\n",
    "    else:\n",
    "        print('\\n Operação falhou! O valor informado é inválido.')    \n",
    "\n",
    "\n",
    "    return saldo, extrato"
   ]
  },
  {
   "cell_type": "markdown",
   "metadata": {},
   "source": [
    "Função Extrato"
   ]
  },
  {
   "cell_type": "code",
   "execution_count": null,
   "metadata": {},
   "outputs": [],
   "source": []
  },
  {
   "cell_type": "markdown",
   "metadata": {},
   "source": [
    "Função para Criar Usuário"
   ]
  },
  {
   "cell_type": "code",
   "execution_count": null,
   "metadata": {},
   "outputs": [],
   "source": []
  },
  {
   "cell_type": "markdown",
   "metadata": {},
   "source": [
    "Função parar Filtrar Usuário"
   ]
  },
  {
   "cell_type": "code",
   "execution_count": null,
   "metadata": {},
   "outputs": [],
   "source": []
  },
  {
   "cell_type": "markdown",
   "metadata": {},
   "source": [
    "Função Para Criar Conta"
   ]
  },
  {
   "cell_type": "code",
   "execution_count": null,
   "metadata": {},
   "outputs": [],
   "source": []
  },
  {
   "cell_type": "markdown",
   "metadata": {},
   "source": [
    "Função Main (Principal)"
   ]
  },
  {
   "cell_type": "code",
   "execution_count": null,
   "metadata": {},
   "outputs": [],
   "source": []
  }
 ],
 "metadata": {
  "kernelspec": {
   "display_name": "Python 3",
   "language": "python",
   "name": "python3"
  },
  "language_info": {
   "codemirror_mode": {
    "name": "ipython",
    "version": 3
   },
   "file_extension": ".py",
   "mimetype": "text/x-python",
   "name": "python",
   "nbconvert_exporter": "python",
   "pygments_lexer": "ipython3",
   "version": "3.12.3"
  }
 },
 "nbformat": 4,
 "nbformat_minor": 2
}
