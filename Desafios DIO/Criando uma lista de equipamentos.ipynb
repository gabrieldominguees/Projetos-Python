{
 "cells": [
  {
   "cell_type": "markdown",
   "metadata": {},
   "source": [
    "Desafio\n",
    "Você foi designado para desenvolver um programa para gerenciar os equipamentos de uma empresa. O objetivo é criar um solução que permita aos usuários inserir informações sobre os equipamentos que serão cadastrados na rede, em seguida, exibir essa lista de equipamentos. Crie uma Lista para armazenar esses equipamentos e depois um loop para solicitar ao usuário inserir até três equipamentos.\n",
    "\n",
    "Entrada\n",
    "O programa solicitará ao usuário que insira uma lista com três equipamentos para adicionar a rede.\n",
    "\n",
    "Saída\n",
    "Após a entrada dos itens, o programa exibirá a lista de equipamentos inseridos pelo usuário. Cada equipamento será listado com um prefixo ( - ) de marcação para melhor organização.\n",
    "\n",
    "Exemplos\n",
    "A tabela abaixo apresenta exemplos com alguns dados de entrada e suas respectivas saídas esperadas. Certifique-se de testar seu programa com esses exemplos e com outros casos possíveis.\n",
    "\n",
    "Entrada\tSaída\n",
    "Antena\n",
    "Roteador\n",
    "Switch\n",
    "\n",
    "Lista de Equipamentos:\n",
    "- Antena\n",
    "- Roteador\n",
    "- Switch\n",
    "\n",
    "\n",
    "Servidor\n",
    "Cabinet Rack\n",
    "Access Point\n",
    " \tLista de Equipamentos:\n",
    "- Servidor\n",
    "- Cabinet Rack\n",
    "- Access Point\n",
    "Edge Routers\n",
    "Patch Cord\n",
    "UPS\n",
    "\n",
    "Lista de Equipamentos:\n",
    "- Edge Routers\n",
    "- Patch Cord\n",
    "- UPS"
   ]
  },
  {
   "cell_type": "code",
   "execution_count": 1,
   "metadata": {},
   "outputs": [
    {
     "name": "stdout",
     "output_type": "stream",
     "text": [
      "Lista de Equipamentos:\n",
      "- \n",
      "- \n",
      "- \n"
     ]
    }
   ],
   "source": [
    "# TODO: Crie uma Lista 'itens' para armazenar os equipamentos:\n",
    "itens = []\n",
    "\n",
    "# TODO: Crie um loop para solicitar os itens ao usuário:\n",
    "for i in range(3):\n",
    "    # TODO: Solicite o item e armazene na variável \"item\":\n",
    "    item = input()\n",
    "    # TODO: Adicione o item à lista \"itens\":\n",
    "    itens.append(item)\n",
    "\n",
    "# Exibe a lista de itens\n",
    "print(\"Lista de Equipamentos:\")  \n",
    "for item in itens:\n",
    "    # Loop que percorre cada item na lista \"itens\"\n",
    "    print(f\"- {item}\")"
   ]
  }
 ],
 "metadata": {
  "kernelspec": {
   "display_name": "Python 3",
   "language": "python",
   "name": "python3"
  },
  "language_info": {
   "codemirror_mode": {
    "name": "ipython",
    "version": 3
   },
   "file_extension": ".py",
   "mimetype": "text/x-python",
   "name": "python",
   "nbconvert_exporter": "python",
   "pygments_lexer": "ipython3",
   "version": "3.12.3"
  }
 },
 "nbformat": 4,
 "nbformat_minor": 2
}
