{
 "cells": [
  {
   "cell_type": "markdown",
   "metadata": {},
   "source": [
    "Desafio\n",
    "Imagine que você trabalha para uma empresa de telecomunicações e é responsável por validar se um número de telefone fornecido pelo cliente está em um formato correto. Para garantir a precisão dos registros, é essencial que os números de telefone estejam no formato padrão. Desenvolva uma função programa que valide se um número de telefone tem o formato correto.\n",
    "\n",
    "Formato esperado:\n",
    "O formato aceito para números de telefone é: (XX) 9XXXX-XXXX, onde X representa um dígito de 0 a 9. Lembre-se de respeitar os espaços entre os números quando preciso.\n",
    "\n",
    "Entrada\n",
    "Uma string representando o número de telefone.\n",
    "\n",
    "Saída\n",
    "Uma mensagem indicando se o número de telefone é válido ou inválido.\n",
    "\n",
    "Exemplos\n",
    "A tabela abaixo apresenta exemplos com alguns dados de entrada e suas respectivas saídas esperadas. Certifique-se de testar seu programa com esses exemplos e com outros casos possíveis.\n",
    "\n",
    "Entrada\tSaída\n",
    "(88) 98888-8888\n",
    "\n",
    "Número de telefone válido.\n",
    "\n",
    "\n",
    "(11)91111-1111\tNúmero de telefone inválido.\n",
    "225555-555\n",
    "\n",
    "Número de telefone inválido."
   ]
  },
  {
   "cell_type": "code",
   "execution_count": 2,
   "metadata": {},
   "outputs": [
    {
     "name": "stdout",
     "output_type": "stream",
     "text": [
      "Número de telefone inválido.\n"
     ]
    }
   ],
   "source": [
    "# Importa o módulo 're' que fornece operações com expressões regulares.\n",
    "import re\n",
    "\n",
    "# TODO: Crie uma função chamada 'validate_numero_telefone' que aceite um argumento 'phone_number':\n",
    "def validate_numero_telefone(phone_number):\n",
    "    # TODO: Defina um padrão de expressão regular (regex) para validar números de telefone no formato (XX) 9XXXX-XXXX:\n",
    "    pattern = r\"^\\(\\d{2}\\) 9\\d{4}-\\d{4}$\"\n",
    "    \n",
    "    # A função 're.match()' verifica se o padrão definido corresponde ao número de telefone fornecido.\n",
    "    # O 're.match()' retorna um objeto 'match' se houver correspondência no início da string, caso contrário, retorna 'None'.\n",
    "    if re.match(pattern, phone_number):  \n",
    "        # TODO: Agora crie um return, para retornar que o número de telefone é válido:\n",
    "        return \"Número de telefone válido.\"\n",
    "    else:\n",
    "        # TODO: Crie um else e return, caso o número de telefone seja inválido:\n",
    "        return \"Número de telefone inválido.\"\n",
    "\n",
    "# Solicita ao usuário que insira um número de telefone e armazena o valor fornecido na variável 'phone_number'.\n",
    "phone_number = input()  \n",
    "\n",
    "# TODO: Chame a função 'validate_numero_telefone()' com o número de telefone fornecido como argumento e armazene o resultado retornado na variável 'result'.\n",
    "result = validate_numero_telefone(phone_number)\n",
    "\n",
    "# Imprime o resultado:\n",
    "print(result)"
   ]
  }
 ],
 "metadata": {
  "kernelspec": {
   "display_name": "Python 3",
   "language": "python",
   "name": "python3"
  },
  "language_info": {
   "codemirror_mode": {
    "name": "ipython",
    "version": 3
   },
   "file_extension": ".py",
   "mimetype": "text/x-python",
   "name": "python",
   "nbconvert_exporter": "python",
   "pygments_lexer": "ipython3",
   "version": "3.12.3"
  }
 },
 "nbformat": 4,
 "nbformat_minor": 2
}
