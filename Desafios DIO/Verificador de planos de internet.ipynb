{
 "cells": [
  {
   "cell_type": "markdown",
   "metadata": {},
   "source": [
    "Desafio\n",
    "Uma empresa de telecomunicações deseja criar uma solução algorítmica que ajude aos seus clientes a escolherem o plano de internet ideal com base em seu consumo mensal de dados. Para a resolução, você pode solicitar ao usuário que insira o seu consumo, sendo este um valor 'float'. Crie uma função chamada recomendar_plano para receber o consumo médio mensal de dados informado pelo cliente, além de utilizar estruturas condicionais para fazer a verificação e retornar o plano adequado.\n",
    "\n",
    "Planos Oferecidos:\n",
    "\n",
    "- Plano Essencial Fibra - 50Mbps: Recomendado para um consumo médio de até 10 GB.\n",
    "- Plano Prata Fibra - 100Mbps: Recomendado para um consumo médio acima de 10 GB até 20 GB.\n",
    "- Plano Premium Fibra - 300Mbps: Recomendado para um consumo médio acima de 20 GB.\n",
    "\n",
    "Entrada\n",
    "Como entrada solicite o consumo médio mensal de dados em GB (float).\n",
    "\n",
    "Saída\n",
    "Retorne o plano ideal para o cliente de acordo com o consumo informado na entrada.\n",
    "\n",
    "Exemplos\n",
    "A tabela abaixo apresenta exemplos com alguns dados de entrada e suas respectivas saídas esperadas. Certifique-se de testar seu programa com esses exemplos e com outros casos possíveis.\n",
    "\n",
    "Entrada\tSaída\n",
    "10\n",
    "\n",
    "Plano Essencial Fibra - 50Mbps\n",
    "\n",
    "19\n",
    "\n",
    "Plano Prata Fibra - 100Mbps\n",
    "21\n",
    "\n",
    "Plano Premium Fibra - 300Mbps"
   ]
  },
  {
   "cell_type": "code",
   "execution_count": 5,
   "metadata": {},
   "outputs": [
    {
     "name": "stdout",
     "output_type": "stream",
     "text": [
      "Plano Essencial Fibra - 50Mbps\n"
     ]
    }
   ],
   "source": [
    "def recomendar_plano(consumo):\n",
    "    if consumo <= 10:\n",
    "        return \"Plano Essencial Fibra - 50Mbps\"\n",
    "    elif consumo <= 20:\n",
    "        return \"Plano Prata Fibra - 100Mbps\"\n",
    "    else:\n",
    "        return \"Plano Premium Fibra - 300Mbps\"\n",
    "\n",
    "consumo = float(input('Informe o consumo médio mensal de dados em GB:'))\n",
    "\n",
    "print(recomendar_plano(consumo))"
   ]
  }
 ],
 "metadata": {
  "kernelspec": {
   "display_name": "Python 3",
   "language": "python",
   "name": "python3"
  },
  "language_info": {
   "codemirror_mode": {
    "name": "ipython",
    "version": 3
   },
   "file_extension": ".py",
   "mimetype": "text/x-python",
   "name": "python",
   "nbconvert_exporter": "python",
   "pygments_lexer": "ipython3",
   "version": "3.12.3"
  }
 },
 "nbformat": 4,
 "nbformat_minor": 2
}
